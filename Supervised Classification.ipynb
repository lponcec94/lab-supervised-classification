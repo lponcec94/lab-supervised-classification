{
 "cells": [
  {
   "cell_type": "markdown",
   "metadata": {},
   "source": [
    "# Supervised classification\n",
    "\n",
    "In the data.csv there are letters (uppercases and lowercases) and numbers, 28x28 pixels in a row format.\n",
    "\n",
    "* First, you need to know which labels are which, meaning you need to visualize some data to realize which number labels represents a letter, or a number."
   ]
  },
  {
   "cell_type": "code",
   "execution_count": 1,
   "metadata": {},
   "outputs": [],
   "source": [
    "# Import libraries\n",
    "import pandas as pd\n",
    "import numpy as np\n",
    "import matplotlib.pyplot as plt\n",
    "from sklearn.model_selection import train_test_split\n",
    "from sklearn.decomposition import PCA\n",
    "from sklearn.linear_model import LogisticRegression"
   ]
  },
  {
   "cell_type": "code",
   "execution_count": 2,
   "metadata": {
    "scrolled": false
   },
   "outputs": [
    {
     "data": {
      "text/html": [
       "<div>\n",
       "<style scoped>\n",
       "    .dataframe tbody tr th:only-of-type {\n",
       "        vertical-align: middle;\n",
       "    }\n",
       "\n",
       "    .dataframe tbody tr th {\n",
       "        vertical-align: top;\n",
       "    }\n",
       "\n",
       "    .dataframe thead th {\n",
       "        text-align: right;\n",
       "    }\n",
       "</style>\n",
       "<table border=\"1\" class=\"dataframe\">\n",
       "  <thead>\n",
       "    <tr style=\"text-align: right;\">\n",
       "      <th></th>\n",
       "      <th>e</th>\n",
       "      <th>1</th>\n",
       "      <th>2</th>\n",
       "      <th>3</th>\n",
       "      <th>4</th>\n",
       "      <th>5</th>\n",
       "      <th>6</th>\n",
       "      <th>7</th>\n",
       "      <th>8</th>\n",
       "      <th>9</th>\n",
       "      <th>...</th>\n",
       "      <th>775</th>\n",
       "      <th>776</th>\n",
       "      <th>777</th>\n",
       "      <th>778</th>\n",
       "      <th>779</th>\n",
       "      <th>780</th>\n",
       "      <th>781</th>\n",
       "      <th>782</th>\n",
       "      <th>783</th>\n",
       "      <th>784</th>\n",
       "    </tr>\n",
       "  </thead>\n",
       "  <tbody>\n",
       "    <tr>\n",
       "      <th>0</th>\n",
       "      <td>36.0</td>\n",
       "      <td>0.0</td>\n",
       "      <td>0.0</td>\n",
       "      <td>0.0</td>\n",
       "      <td>0.0</td>\n",
       "      <td>0.0</td>\n",
       "      <td>0.0</td>\n",
       "      <td>0.0</td>\n",
       "      <td>0.0</td>\n",
       "      <td>0.0</td>\n",
       "      <td>...</td>\n",
       "      <td>0.0</td>\n",
       "      <td>0.0</td>\n",
       "      <td>0.0</td>\n",
       "      <td>0.0</td>\n",
       "      <td>0.0</td>\n",
       "      <td>0.0</td>\n",
       "      <td>0.0</td>\n",
       "      <td>0.0</td>\n",
       "      <td>0.0</td>\n",
       "      <td>0.0</td>\n",
       "    </tr>\n",
       "    <tr>\n",
       "      <th>1</th>\n",
       "      <td>0.0</td>\n",
       "      <td>0.0</td>\n",
       "      <td>0.0</td>\n",
       "      <td>0.0</td>\n",
       "      <td>0.0</td>\n",
       "      <td>0.0</td>\n",
       "      <td>0.0</td>\n",
       "      <td>0.0</td>\n",
       "      <td>0.0</td>\n",
       "      <td>0.0</td>\n",
       "      <td>...</td>\n",
       "      <td>0.0</td>\n",
       "      <td>0.0</td>\n",
       "      <td>0.0</td>\n",
       "      <td>0.0</td>\n",
       "      <td>0.0</td>\n",
       "      <td>0.0</td>\n",
       "      <td>0.0</td>\n",
       "      <td>0.0</td>\n",
       "      <td>0.0</td>\n",
       "      <td>0.0</td>\n",
       "    </tr>\n",
       "    <tr>\n",
       "      <th>2</th>\n",
       "      <td>3.0</td>\n",
       "      <td>0.0</td>\n",
       "      <td>0.0</td>\n",
       "      <td>0.0</td>\n",
       "      <td>0.0</td>\n",
       "      <td>0.0</td>\n",
       "      <td>0.0</td>\n",
       "      <td>0.0</td>\n",
       "      <td>0.0</td>\n",
       "      <td>0.0</td>\n",
       "      <td>...</td>\n",
       "      <td>0.0</td>\n",
       "      <td>0.0</td>\n",
       "      <td>0.0</td>\n",
       "      <td>0.0</td>\n",
       "      <td>0.0</td>\n",
       "      <td>0.0</td>\n",
       "      <td>0.0</td>\n",
       "      <td>0.0</td>\n",
       "      <td>0.0</td>\n",
       "      <td>0.0</td>\n",
       "    </tr>\n",
       "    <tr>\n",
       "      <th>3</th>\n",
       "      <td>33.0</td>\n",
       "      <td>0.0</td>\n",
       "      <td>0.0</td>\n",
       "      <td>0.0</td>\n",
       "      <td>0.0</td>\n",
       "      <td>0.0</td>\n",
       "      <td>0.0</td>\n",
       "      <td>0.0</td>\n",
       "      <td>0.0</td>\n",
       "      <td>0.0</td>\n",
       "      <td>...</td>\n",
       "      <td>0.0</td>\n",
       "      <td>0.0</td>\n",
       "      <td>0.0</td>\n",
       "      <td>0.0</td>\n",
       "      <td>0.0</td>\n",
       "      <td>0.0</td>\n",
       "      <td>0.0</td>\n",
       "      <td>0.0</td>\n",
       "      <td>0.0</td>\n",
       "      <td>0.0</td>\n",
       "    </tr>\n",
       "    <tr>\n",
       "      <th>4</th>\n",
       "      <td>30.0</td>\n",
       "      <td>0.0</td>\n",
       "      <td>0.0</td>\n",
       "      <td>0.0</td>\n",
       "      <td>0.0</td>\n",
       "      <td>0.0</td>\n",
       "      <td>0.0</td>\n",
       "      <td>0.0</td>\n",
       "      <td>0.0</td>\n",
       "      <td>0.0</td>\n",
       "      <td>...</td>\n",
       "      <td>0.0</td>\n",
       "      <td>0.0</td>\n",
       "      <td>0.0</td>\n",
       "      <td>0.0</td>\n",
       "      <td>0.0</td>\n",
       "      <td>0.0</td>\n",
       "      <td>0.0</td>\n",
       "      <td>0.0</td>\n",
       "      <td>0.0</td>\n",
       "      <td>0.0</td>\n",
       "    </tr>\n",
       "    <tr>\n",
       "      <th>5</th>\n",
       "      <td>24.0</td>\n",
       "      <td>0.0</td>\n",
       "      <td>0.0</td>\n",
       "      <td>0.0</td>\n",
       "      <td>0.0</td>\n",
       "      <td>0.0</td>\n",
       "      <td>0.0</td>\n",
       "      <td>0.0</td>\n",
       "      <td>0.0</td>\n",
       "      <td>0.0</td>\n",
       "      <td>...</td>\n",
       "      <td>0.0</td>\n",
       "      <td>0.0</td>\n",
       "      <td>0.0</td>\n",
       "      <td>0.0</td>\n",
       "      <td>0.0</td>\n",
       "      <td>0.0</td>\n",
       "      <td>0.0</td>\n",
       "      <td>0.0</td>\n",
       "      <td>0.0</td>\n",
       "      <td>0.0</td>\n",
       "    </tr>\n",
       "    <tr>\n",
       "      <th>6</th>\n",
       "      <td>40.0</td>\n",
       "      <td>0.0</td>\n",
       "      <td>0.0</td>\n",
       "      <td>0.0</td>\n",
       "      <td>0.0</td>\n",
       "      <td>0.0</td>\n",
       "      <td>0.0</td>\n",
       "      <td>0.0</td>\n",
       "      <td>0.0</td>\n",
       "      <td>0.0</td>\n",
       "      <td>...</td>\n",
       "      <td>0.0</td>\n",
       "      <td>0.0</td>\n",
       "      <td>0.0</td>\n",
       "      <td>0.0</td>\n",
       "      <td>0.0</td>\n",
       "      <td>0.0</td>\n",
       "      <td>0.0</td>\n",
       "      <td>0.0</td>\n",
       "      <td>0.0</td>\n",
       "      <td>0.0</td>\n",
       "    </tr>\n",
       "    <tr>\n",
       "      <th>7</th>\n",
       "      <td>5.0</td>\n",
       "      <td>0.0</td>\n",
       "      <td>0.0</td>\n",
       "      <td>0.0</td>\n",
       "      <td>0.0</td>\n",
       "      <td>0.0</td>\n",
       "      <td>0.0</td>\n",
       "      <td>0.0</td>\n",
       "      <td>0.0</td>\n",
       "      <td>0.0</td>\n",
       "      <td>...</td>\n",
       "      <td>0.0</td>\n",
       "      <td>0.0</td>\n",
       "      <td>0.0</td>\n",
       "      <td>0.0</td>\n",
       "      <td>0.0</td>\n",
       "      <td>0.0</td>\n",
       "      <td>0.0</td>\n",
       "      <td>0.0</td>\n",
       "      <td>0.0</td>\n",
       "      <td>0.0</td>\n",
       "    </tr>\n",
       "    <tr>\n",
       "      <th>8</th>\n",
       "      <td>8.0</td>\n",
       "      <td>0.0</td>\n",
       "      <td>0.0</td>\n",
       "      <td>0.0</td>\n",
       "      <td>0.0</td>\n",
       "      <td>0.0</td>\n",
       "      <td>0.0</td>\n",
       "      <td>0.0</td>\n",
       "      <td>0.0</td>\n",
       "      <td>0.0</td>\n",
       "      <td>...</td>\n",
       "      <td>0.0</td>\n",
       "      <td>0.0</td>\n",
       "      <td>0.0</td>\n",
       "      <td>0.0</td>\n",
       "      <td>0.0</td>\n",
       "      <td>0.0</td>\n",
       "      <td>0.0</td>\n",
       "      <td>0.0</td>\n",
       "      <td>0.0</td>\n",
       "      <td>0.0</td>\n",
       "    </tr>\n",
       "    <tr>\n",
       "      <th>9</th>\n",
       "      <td>2.0</td>\n",
       "      <td>0.0</td>\n",
       "      <td>0.0</td>\n",
       "      <td>0.0</td>\n",
       "      <td>0.0</td>\n",
       "      <td>0.0</td>\n",
       "      <td>0.0</td>\n",
       "      <td>0.0</td>\n",
       "      <td>0.0</td>\n",
       "      <td>0.0</td>\n",
       "      <td>...</td>\n",
       "      <td>0.0</td>\n",
       "      <td>0.0</td>\n",
       "      <td>0.0</td>\n",
       "      <td>0.0</td>\n",
       "      <td>0.0</td>\n",
       "      <td>0.0</td>\n",
       "      <td>0.0</td>\n",
       "      <td>0.0</td>\n",
       "      <td>0.0</td>\n",
       "      <td>0.0</td>\n",
       "    </tr>\n",
       "  </tbody>\n",
       "</table>\n",
       "<p>10 rows × 785 columns</p>\n",
       "</div>"
      ],
      "text/plain": [
       "      e    1    2    3    4    5    6    7    8    9  ...  775  776  777  778  \\\n",
       "0  36.0  0.0  0.0  0.0  0.0  0.0  0.0  0.0  0.0  0.0  ...  0.0  0.0  0.0  0.0   \n",
       "1   0.0  0.0  0.0  0.0  0.0  0.0  0.0  0.0  0.0  0.0  ...  0.0  0.0  0.0  0.0   \n",
       "2   3.0  0.0  0.0  0.0  0.0  0.0  0.0  0.0  0.0  0.0  ...  0.0  0.0  0.0  0.0   \n",
       "3  33.0  0.0  0.0  0.0  0.0  0.0  0.0  0.0  0.0  0.0  ...  0.0  0.0  0.0  0.0   \n",
       "4  30.0  0.0  0.0  0.0  0.0  0.0  0.0  0.0  0.0  0.0  ...  0.0  0.0  0.0  0.0   \n",
       "5  24.0  0.0  0.0  0.0  0.0  0.0  0.0  0.0  0.0  0.0  ...  0.0  0.0  0.0  0.0   \n",
       "6  40.0  0.0  0.0  0.0  0.0  0.0  0.0  0.0  0.0  0.0  ...  0.0  0.0  0.0  0.0   \n",
       "7   5.0  0.0  0.0  0.0  0.0  0.0  0.0  0.0  0.0  0.0  ...  0.0  0.0  0.0  0.0   \n",
       "8   8.0  0.0  0.0  0.0  0.0  0.0  0.0  0.0  0.0  0.0  ...  0.0  0.0  0.0  0.0   \n",
       "9   2.0  0.0  0.0  0.0  0.0  0.0  0.0  0.0  0.0  0.0  ...  0.0  0.0  0.0  0.0   \n",
       "\n",
       "   779  780  781  782  783  784  \n",
       "0  0.0  0.0  0.0  0.0  0.0  0.0  \n",
       "1  0.0  0.0  0.0  0.0  0.0  0.0  \n",
       "2  0.0  0.0  0.0  0.0  0.0  0.0  \n",
       "3  0.0  0.0  0.0  0.0  0.0  0.0  \n",
       "4  0.0  0.0  0.0  0.0  0.0  0.0  \n",
       "5  0.0  0.0  0.0  0.0  0.0  0.0  \n",
       "6  0.0  0.0  0.0  0.0  0.0  0.0  \n",
       "7  0.0  0.0  0.0  0.0  0.0  0.0  \n",
       "8  0.0  0.0  0.0  0.0  0.0  0.0  \n",
       "9  0.0  0.0  0.0  0.0  0.0  0.0  \n",
       "\n",
       "[10 rows x 785 columns]"
      ]
     },
     "execution_count": 2,
     "metadata": {},
     "output_type": "execute_result"
    }
   ],
   "source": [
    "# Your code here\n",
    "data = pd.read_csv('data_all.csv')\n",
    "\n",
    "data.head(10)"
   ]
  },
  {
   "cell_type": "code",
   "execution_count": 3,
   "metadata": {
    "scrolled": true
   },
   "outputs": [
    {
     "name": "stdout",
     "output_type": "stream",
     "text": [
      "<class 'pandas.core.frame.DataFrame'>\n",
      "RangeIndex: 116322 entries, 0 to 116321\n",
      "Columns: 785 entries, e to 784\n",
      "dtypes: float64(785)\n",
      "memory usage: 696.7 MB\n"
     ]
    }
   ],
   "source": [
    "data.info()"
   ]
  },
  {
   "cell_type": "code",
   "execution_count": 4,
   "metadata": {
    "scrolled": true
   },
   "outputs": [
    {
     "data": {
      "text/plain": [
       "array([36.,  0.,  3., 33., 30., 24., 40.,  5.,  8.,  2.,  4., 47.,  7.,\n",
       "       32., 60., 18., 46., 59., 12., 37., 53., 15.,  1.,  9., 38., 43.,\n",
       "       44., 19., 55.,  6., 58., 41., 20., 29., 28., 31., 42., 39., 25.,\n",
       "       49., 35., 14., 57., 34., 26., 61., 11., 13., 27., 51., 23., 10.,\n",
       "       22., 56., 48., 52., 16., 17., 54., 21., 50., 45.])"
      ]
     },
     "execution_count": 4,
     "metadata": {},
     "output_type": "execute_result"
    }
   ],
   "source": [
    "data['e'].unique()"
   ]
  },
  {
   "cell_type": "code",
   "execution_count": 5,
   "metadata": {
    "scrolled": true
   },
   "outputs": [
    {
     "data": {
      "image/png": "[encoded data removed]",
      "text/plain": [
       "<Figure size 432x288 with 1 Axes>"
      ]
     },
     "metadata": {
      "needs_background": "light"
     },
     "output_type": "display_data"
    },
    {
     "data": {
      "image/png": "[encoded data removed]",
      "text/plain": [
       "<Figure size 432x288 with 1 Axes>"
      ]
     },
     "metadata": {
      "needs_background": "light"
     },
     "output_type": "display_data"
    },
    {
     "data": {
      "image/png": "[encoded data removed]",
      "text/plain": [
       "<Figure size 432x288 with 1 Axes>"
      ]
     },
     "metadata": {
      "needs_background": "light"
     },
     "output_type": "display_data"
    },
    {
     "data": {
      "image/png": "[encoded data removed]",
      "text/plain": [
       "<Figure size 432x288 with 1 Axes>"
      ]
     },
     "metadata": {
      "needs_background": "light"
     },
     "output_type": "display_data"
    },
    {
     "data": {
      "image/png": "[encoded data removed]",
      "text/plain": [
       "<Figure size 432x288 with 1 Axes>"
      ]
     },
     "metadata": {
      "needs_background": "light"
     },
     "output_type": "display_data"
    },
    {
     "data": {
      "image/png": "[encoded data removed]",
      "text/plain": [
       "<Figure size 432x288 with 1 Axes>"
      ]
     },
     "metadata": {
      "needs_background": "light"
     },
     "output_type": "display_data"
    },
    {
     "data": {
      "image/png": "[encoded data removed]",
      "text/plain": [
       "<Figure size 432x288 with 1 Axes>"
      ]
     },
     "metadata": {
      "needs_background": "light"
     },
     "output_type": "display_data"
    },
    {
     "data": {
      "image/png": "[encoded data removed]",
      "text/plain": [
       "<Figure size 432x288 with 1 Axes>"
      ]
     },
     "metadata": {
      "needs_background": "light"
     },
     "output_type": "display_data"
    },
    {
     "data": {
      "image/png": "[encoded data removed]",
      "text/plain": [
       "<Figure size 432x288 with 1 Axes>"
      ]
     },
     "metadata": {
      "needs_background": "light"
     },
     "output_type": "display_data"
    },
    {
     "data": {
      "image/png": "[encoded data removed]",
      "text/plain": [
       "<Figure size 432x288 with 1 Axes>"
      ]
     },
     "metadata": {
      "needs_background": "light"
     },
     "output_type": "display_data"
    }
   ],
   "source": [
    "for i in range(10):\n",
    "    fig, ax = plt.subplots()\n",
    "    ax.imshow(np.asarray(data.iloc[i,1:]).reshape(28,28), interpolation='nearest')\n"
   ]
  },
  {
   "cell_type": "code",
   "execution_count": 6,
   "metadata": {},
   "outputs": [
    {
     "name": "stderr",
     "output_type": "stream",
     "text": [
      "<ipython-input-6-2351832260bc>:2: RuntimeWarning: More than 20 figures have been opened. Figures created through the pyplot interface (`matplotlib.pyplot.figure`) are retained until explicitly closed and may consume too much memory. (To control this warning, see the rcParam `figure.max_open_warning`).\n",
      "  fig, ax = plt.subplots()\n"
     ]
    },
    {
     "data": {
      "image/png": "[encoded data removed]",
      "text/plain": [
       "<Figure size 432x288 with 1 Axes>"
      ]
     },
     "metadata": {
      "needs_background": "light"
     },
     "output_type": "display_data"
    },
    {
     "data": {
      "image/png": "[encoded data removed]",
      "text/plain": [
       "<Figure size 432x288 with 1 Axes>"
      ]
     },
     "metadata": {
      "needs_background": "light"
     },
     "output_type": "display_data"
    },
    {
     "data": {
      "image/png": "[encoded data removed]",
      "text/plain": [
       "<Figure size 432x288 with 1 Axes>"
      ]
     },
     "metadata": {
      "needs_background": "light"
     },
     "output_type": "display_data"
    },
    {
     "data": {
      "image/png": "[encoded data removed]",
      "text/plain": [
       "<Figure size 432x288 with 1 Axes>"
      ]
     },
     "metadata": {
      "needs_background": "light"
     },
     "output_type": "display_data"
    },
    {
     "data": {
      "image/png": "[encoded data removed]",
      "text/plain": [
       "<Figure size 432x288 with 1 Axes>"
      ]
     },
     "metadata": {
      "needs_background": "light"
     },
     "output_type": "display_data"
    },
    {
     "data": {
      "image/png": "[encoded data removed]",
      "text/plain": [
       "<Figure size 432x288 with 1 Axes>"
      ]
     },
     "metadata": {
      "needs_background": "light"
     },
     "output_type": "display_data"
    },
    {
     "data": {
      "image/png": "[encoded data removed]",
      "text/plain": [
       "<Figure size 432x288 with 1 Axes>"
      ]
     },
     "metadata": {
      "needs_background": "light"
     },
     "output_type": "display_data"
    },
    {
     "data": {
      "image/png": "[encoded data removed]",
      "text/plain": [
       "<Figure size 432x288 with 1 Axes>"
      ]
     },
     "metadata": {
      "needs_background": "light"
     },
     "output_type": "display_data"
    },
    {
     "data": {
      "image/png": "[encoded data removed]",
      "text/plain": [
       "<Figure size 432x288 with 1 Axes>"
      ]
     },
     "metadata": {
      "needs_background": "light"
     },
     "output_type": "display_data"
    },
    {
     "data": {
      "image/png": "[encoded data removed]",
      "text/plain": [
       "<Figure size 432x288 with 1 Axes>"
      ]
     },
     "metadata": {
      "needs_background": "light"
     },
     "output_type": "display_data"
    },
    {
     "data": {
      "image/png": "[encoded data removed]",
      "text/plain": [
       "<Figure size 432x288 with 1 Axes>"
      ]
     },
     "metadata": {
      "needs_background": "light"
     },
     "output_type": "display_data"
    },
    {
     "data": {
      "image/png": "[encoded data removed]",
      "text/plain": [
       "<Figure size 432x288 with 1 Axes>"
      ]
     },
     "metadata": {
      "needs_background": "light"
     },
     "output_type": "display_data"
    },
    {
     "data": {
      "image/png": "[encoded data removed]",
      "text/plain": [
       "<Figure size 432x288 with 1 Axes>"
      ]
     },
     "metadata": {
      "needs_background": "light"
     },
     "output_type": "display_data"
    },
    {
     "data": {
      "image/png": "[encoded data removed]",
      "text/plain": [
       "<Figure size 432x288 with 1 Axes>"
      ]
     },
     "metadata": {
      "needs_background": "light"
     },
     "output_type": "display_data"
    },
    {
     "data": {
      "image/png": "[encoded data removed]",
      "text/plain": [
       "<Figure size 432x288 with 1 Axes>"
      ]
     },
     "metadata": {
      "needs_background": "light"
     },
     "output_type": "display_data"
    },
    {
     "data": {
      "image/png": "[encoded data removed]",
      "text/plain": [
       "<Figure size 432x288 with 1 Axes>"
      ]
     },
     "metadata": {
      "needs_background": "light"
     },
     "output_type": "display_data"
    },
    {
     "data": {
      "image/png": "[encoded data removed]",
      "text/plain": [
       "<Figure size 432x288 with 1 Axes>"
      ]
     },
     "metadata": {
      "needs_background": "light"
     },
     "output_type": "display_data"
    },
    {
     "data": {
      "image/png": "[encoded data removed]",
      "text/plain": [
       "<Figure size 432x288 with 1 Axes>"
      ]
     },
     "metadata": {
      "needs_background": "light"
     },
     "output_type": "display_data"
    },
    {
     "data": {
      "image/png": "[encoded data removed]",
      "text/plain": [
       "<Figure size 432x288 with 1 Axes>"
      ]
     },
     "metadata": {
      "needs_background": "light"
     },
     "output_type": "display_data"
    },
    {
     "data": {
      "image/png": "[encoded data removed]",
      "text/plain": [
       "<Figure size 432x288 with 1 Axes>"
      ]
     },
     "metadata": {
      "needs_background": "light"
     },
     "output_type": "display_data"
    },
    {
     "data": {
      "image/png": "[encoded data removed]",
      "text/plain": [
       "<Figure size 432x288 with 1 Axes>"
      ]
     },
     "metadata": {
      "needs_background": "light"
     },
     "output_type": "display_data"
    },
    {
     "data": {
      "image/png": "[encoded data removed]",
      "text/plain": [
       "<Figure size 432x288 with 1 Axes>"
      ]
     },
     "metadata": {
      "needs_background": "light"
     },
     "output_type": "display_data"
    },
    {
     "data": {
      "image/png": "[encoded data removed]",
      "text/plain": [
       "<Figure size 432x288 with 1 Axes>"
      ]
     },
     "metadata": {
      "needs_background": "light"
     },
     "output_type": "display_data"
    },
    {
     "data": {
      "image/png": "[encoded data removed]",
      "text/plain": [
       "<Figure size 432x288 with 1 Axes>"
      ]
     },
     "metadata": {
      "needs_background": "light"
     },
     "output_type": "display_data"
    },
    {
     "data": {
      "image/png": "[encoded data removed]",
      "text/plain": [
       "<Figure size 432x288 with 1 Axes>"
      ]
     },
     "metadata": {
      "needs_background": "light"
     },
     "output_type": "display_data"
    },
    {
     "data": {
      "image/png": "[encoded data removed]",
      "text/plain": [
       "<Figure size 432x288 with 1 Axes>"
      ]
     },
     "metadata": {
      "needs_background": "light"
     },
     "output_type": "display_data"
    }
   ],
   "source": [
    "for i in range(11,37):\n",
    "    fig, ax = plt.subplots()\n",
    "    ax.imshow(np.asarray(data[data.e==int(i)].iloc[0,1:]).reshape(28,28), cmap=plt.cm.bone, interpolation='nearest')"
   ]
  },
  {
   "cell_type": "code",
   "execution_count": 7,
   "metadata": {},
   "outputs": [],
   "source": [
    "#0-9 numbers\n",
    "#10-35 upper\n",
    "#36-50 lower"
   ]
  },
  {
   "cell_type": "markdown",
   "metadata": {},
   "source": [
    "* Now, try to train a classifier model to predict the uppercases. Use every single model you know for classification."
   ]
  },
  {
   "cell_type": "code",
   "execution_count": 27,
   "metadata": {},
   "outputs": [],
   "source": [
    "# Your code here\n",
    "from sklearn import tree\n",
    "from sklearn.tree import DecisionTreeClassifier\n",
    "from sklearn.ensemble import RandomForestClassifier, ExtraTreesClassifier"
   ]
  },
  {
   "cell_type": "code",
   "execution_count": 9,
   "metadata": {},
   "outputs": [
    {
     "data": {
      "text/plain": [
       "\"\\nA PCA was applied to the original data using Colab due to the memory limitations of my PC. The following code was used:\\n\\n    from google.colab import drive\\n    drive.mount('/content/drive/')\\n    data = pd.read_csv('/content/drive/MyDrive/Datasets/data_all.csv')\\n    data_upper = data.copy()\\n    data_upper = data_upper.drop('e', axis=1, inplace=False)\\n    data_upper.head()\\n    pca = PCA()\\n    pca.fit(data_upper)\\n    pca.n_components_\\n    plt.figure(figsize=(12, 9))\\n    plt.plot(range(1, 785), pca.explained_variance_ratio_.cumsum(), marker='o', linestyle='--')\\n    plt.title('Varianza explicada por los componentes')\\n    plt.xlabel('Numero de componentes')\\n    plt.ylabel('Varianza Explicada Acumulada')\\n    \\n    From the graph plotted with the last command I concluded that the first 50 components explained the 80% of our data.\\n    \\n    pca = PCA(n_components=50)\\n    pca.fit(np.array(data_upper))\\n    df_pca_comp = pd.DataFrame(data=pca.transform(np.array(data_upper)))\\n    df_pca_comp.to_csv('data_pca.csv')\\n\""
      ]
     },
     "execution_count": 9,
     "metadata": {},
     "output_type": "execute_result"
    }
   ],
   "source": [
    "\"\"\"\n",
    "A PCA was applied to the original data using Colab due to the memory limitations of my PC. The following code was used:\n",
    "\n",
    "    from google.colab import drive\n",
    "    drive.mount('/content/drive/')\n",
    "    data = pd.read_csv('/content/drive/MyDrive/Datasets/data_all.csv')\n",
    "    data_upper = data.copy()\n",
    "    data_upper = data_upper.drop('e', axis=1, inplace=False)\n",
    "    data_upper.head()\n",
    "    pca = PCA()\n",
    "    pca.fit(data_upper)\n",
    "    pca.n_components_\n",
    "    plt.figure(figsize=(12, 9))\n",
    "    plt.plot(range(1, 785), pca.explained_variance_ratio_.cumsum(), marker='o', linestyle='--')\n",
    "    plt.title('Varianza explicada por los componentes')\n",
    "    plt.xlabel('Numero de componentes')\n",
    "    plt.ylabel('Varianza Explicada Acumulada')\n",
    "    \n",
    "    From the graph plotted with the last command I concluded that the first 50 components explained the 80% of our data.\n",
    "    \n",
    "    pca = PCA(n_components=50)\n",
    "    pca.fit(np.array(data_upper))\n",
    "    df_pca_comp = pd.DataFrame(data=pca.transform(np.array(data_upper)))\n",
    "    df_pca_comp.to_csv('data_pca.csv')\n",
    "\"\"\""
   ]
  },
  {
   "cell_type": "code",
   "execution_count": 10,
   "metadata": {},
   "outputs": [],
   "source": [
    "data_pca = pd.read_csv('data_pca.csv', index_col=0)"
   ]
  },
  {
   "cell_type": "code",
   "execution_count": 11,
   "metadata": {},
   "outputs": [
    {
     "data": {
      "text/html": [
       "<div>\n",
       "<style scoped>\n",
       "    .dataframe tbody tr th:only-of-type {\n",
       "        vertical-align: middle;\n",
       "    }\n",
       "\n",
       "    .dataframe tbody tr th {\n",
       "        vertical-align: top;\n",
       "    }\n",
       "\n",
       "    .dataframe thead th {\n",
       "        text-align: right;\n",
       "    }\n",
       "</style>\n",
       "<table border=\"1\" class=\"dataframe\">\n",
       "  <thead>\n",
       "    <tr style=\"text-align: right;\">\n",
       "      <th></th>\n",
       "      <th>0</th>\n",
       "      <th>1</th>\n",
       "      <th>2</th>\n",
       "      <th>3</th>\n",
       "      <th>4</th>\n",
       "      <th>5</th>\n",
       "      <th>6</th>\n",
       "      <th>7</th>\n",
       "      <th>8</th>\n",
       "      <th>9</th>\n",
       "      <th>...</th>\n",
       "      <th>40</th>\n",
       "      <th>41</th>\n",
       "      <th>42</th>\n",
       "      <th>43</th>\n",
       "      <th>44</th>\n",
       "      <th>45</th>\n",
       "      <th>46</th>\n",
       "      <th>47</th>\n",
       "      <th>48</th>\n",
       "      <th>49</th>\n",
       "    </tr>\n",
       "  </thead>\n",
       "  <tbody>\n",
       "    <tr>\n",
       "      <th>0</th>\n",
       "      <td>117.989935</td>\n",
       "      <td>658.487571</td>\n",
       "      <td>330.402267</td>\n",
       "      <td>447.344406</td>\n",
       "      <td>71.579701</td>\n",
       "      <td>-321.068125</td>\n",
       "      <td>-722.193289</td>\n",
       "      <td>216.586104</td>\n",
       "      <td>-296.320421</td>\n",
       "      <td>409.989741</td>\n",
       "      <td>...</td>\n",
       "      <td>102.477667</td>\n",
       "      <td>79.787928</td>\n",
       "      <td>229.692127</td>\n",
       "      <td>213.362256</td>\n",
       "      <td>-153.993241</td>\n",
       "      <td>166.156587</td>\n",
       "      <td>127.762666</td>\n",
       "      <td>-89.816663</td>\n",
       "      <td>-175.166099</td>\n",
       "      <td>49.813899</td>\n",
       "    </tr>\n",
       "    <tr>\n",
       "      <th>1</th>\n",
       "      <td>1054.668582</td>\n",
       "      <td>-185.312286</td>\n",
       "      <td>-896.186133</td>\n",
       "      <td>-424.796355</td>\n",
       "      <td>-892.301689</td>\n",
       "      <td>153.224872</td>\n",
       "      <td>-24.147293</td>\n",
       "      <td>164.114933</td>\n",
       "      <td>-341.850783</td>\n",
       "      <td>-123.135346</td>\n",
       "      <td>...</td>\n",
       "      <td>20.951861</td>\n",
       "      <td>-229.714627</td>\n",
       "      <td>-116.688314</td>\n",
       "      <td>-36.820065</td>\n",
       "      <td>-26.848551</td>\n",
       "      <td>-86.944919</td>\n",
       "      <td>140.027855</td>\n",
       "      <td>138.466243</td>\n",
       "      <td>-12.851232</td>\n",
       "      <td>54.393574</td>\n",
       "    </tr>\n",
       "    <tr>\n",
       "      <th>2</th>\n",
       "      <td>-117.762147</td>\n",
       "      <td>781.021125</td>\n",
       "      <td>143.518022</td>\n",
       "      <td>-152.470980</td>\n",
       "      <td>562.498207</td>\n",
       "      <td>-62.177398</td>\n",
       "      <td>241.489107</td>\n",
       "      <td>475.198097</td>\n",
       "      <td>-867.948127</td>\n",
       "      <td>-1.573298</td>\n",
       "      <td>...</td>\n",
       "      <td>-65.988978</td>\n",
       "      <td>-180.374379</td>\n",
       "      <td>220.651482</td>\n",
       "      <td>-41.768814</td>\n",
       "      <td>-139.201120</td>\n",
       "      <td>302.111079</td>\n",
       "      <td>-50.122665</td>\n",
       "      <td>115.465053</td>\n",
       "      <td>-101.499678</td>\n",
       "      <td>116.537031</td>\n",
       "    </tr>\n",
       "    <tr>\n",
       "      <th>3</th>\n",
       "      <td>-553.267526</td>\n",
       "      <td>-283.911249</td>\n",
       "      <td>8.845921</td>\n",
       "      <td>92.506575</td>\n",
       "      <td>-245.986626</td>\n",
       "      <td>-137.806753</td>\n",
       "      <td>202.621867</td>\n",
       "      <td>221.518277</td>\n",
       "      <td>50.877987</td>\n",
       "      <td>267.818437</td>\n",
       "      <td>...</td>\n",
       "      <td>-64.017097</td>\n",
       "      <td>-6.827408</td>\n",
       "      <td>-312.128894</td>\n",
       "      <td>82.664625</td>\n",
       "      <td>-249.716617</td>\n",
       "      <td>302.844756</td>\n",
       "      <td>-116.076716</td>\n",
       "      <td>-362.312861</td>\n",
       "      <td>6.377074</td>\n",
       "      <td>106.466476</td>\n",
       "    </tr>\n",
       "    <tr>\n",
       "      <th>4</th>\n",
       "      <td>804.201239</td>\n",
       "      <td>21.239381</td>\n",
       "      <td>834.426463</td>\n",
       "      <td>-537.244042</td>\n",
       "      <td>-393.108762</td>\n",
       "      <td>461.381428</td>\n",
       "      <td>-30.000237</td>\n",
       "      <td>-68.474969</td>\n",
       "      <td>338.573024</td>\n",
       "      <td>191.333625</td>\n",
       "      <td>...</td>\n",
       "      <td>-212.737601</td>\n",
       "      <td>-198.733705</td>\n",
       "      <td>13.946497</td>\n",
       "      <td>43.304405</td>\n",
       "      <td>-208.758342</td>\n",
       "      <td>52.693623</td>\n",
       "      <td>88.726353</td>\n",
       "      <td>180.408897</td>\n",
       "      <td>87.096814</td>\n",
       "      <td>107.168310</td>\n",
       "    </tr>\n",
       "  </tbody>\n",
       "</table>\n",
       "<p>5 rows × 50 columns</p>\n",
       "</div>"
      ],
      "text/plain": [
       "             0           1           2           3           4           5  \\\n",
       "0   117.989935  658.487571  330.402267  447.344406   71.579701 -321.068125   \n",
       "1  1054.668582 -185.312286 -896.186133 -424.796355 -892.301689  153.224872   \n",
       "2  -117.762147  781.021125  143.518022 -152.470980  562.498207  -62.177398   \n",
       "3  -553.267526 -283.911249    8.845921   92.506575 -245.986626 -137.806753   \n",
       "4   804.201239   21.239381  834.426463 -537.244042 -393.108762  461.381428   \n",
       "\n",
       "            6           7           8           9  ...          40  \\\n",
       "0 -722.193289  216.586104 -296.320421  409.989741  ...  102.477667   \n",
       "1  -24.147293  164.114933 -341.850783 -123.135346  ...   20.951861   \n",
       "2  241.489107  475.198097 -867.948127   -1.573298  ...  -65.988978   \n",
       "3  202.621867  221.518277   50.877987  267.818437  ...  -64.017097   \n",
       "4  -30.000237  -68.474969  338.573024  191.333625  ... -212.737601   \n",
       "\n",
       "           41          42          43          44          45          46  \\\n",
       "0   79.787928  229.692127  213.362256 -153.993241  166.156587  127.762666   \n",
       "1 -229.714627 -116.688314  -36.820065  -26.848551  -86.944919  140.027855   \n",
       "2 -180.374379  220.651482  -41.768814 -139.201120  302.111079  -50.122665   \n",
       "3   -6.827408 -312.128894   82.664625 -249.716617  302.844756 -116.076716   \n",
       "4 -198.733705   13.946497   43.304405 -208.758342   52.693623   88.726353   \n",
       "\n",
       "           47          48          49  \n",
       "0  -89.816663 -175.166099   49.813899  \n",
       "1  138.466243  -12.851232   54.393574  \n",
       "2  115.465053 -101.499678  116.537031  \n",
       "3 -362.312861    6.377074  106.466476  \n",
       "4  180.408897   87.096814  107.168310  \n",
       "\n",
       "[5 rows x 50 columns]"
      ]
     },
     "execution_count": 11,
     "metadata": {},
     "output_type": "execute_result"
    }
   ],
   "source": [
    "data_pca.head()"
   ]
  },
  {
   "cell_type": "code",
   "execution_count": 12,
   "metadata": {},
   "outputs": [],
   "source": [
    "data_pca_e = pd.concat([data['e'], data_pca], axis=1)"
   ]
  },
  {
   "cell_type": "code",
   "execution_count": 13,
   "metadata": {},
   "outputs": [
    {
     "data": {
      "text/html": [
       "<div>\n",
       "<style scoped>\n",
       "    .dataframe tbody tr th:only-of-type {\n",
       "        vertical-align: middle;\n",
       "    }\n",
       "\n",
       "    .dataframe tbody tr th {\n",
       "        vertical-align: top;\n",
       "    }\n",
       "\n",
       "    .dataframe thead th {\n",
       "        text-align: right;\n",
       "    }\n",
       "</style>\n",
       "<table border=\"1\" class=\"dataframe\">\n",
       "  <thead>\n",
       "    <tr style=\"text-align: right;\">\n",
       "      <th></th>\n",
       "      <th>e</th>\n",
       "      <th>0</th>\n",
       "      <th>1</th>\n",
       "      <th>2</th>\n",
       "      <th>3</th>\n",
       "      <th>4</th>\n",
       "      <th>5</th>\n",
       "      <th>6</th>\n",
       "      <th>7</th>\n",
       "      <th>8</th>\n",
       "      <th>...</th>\n",
       "      <th>40</th>\n",
       "      <th>41</th>\n",
       "      <th>42</th>\n",
       "      <th>43</th>\n",
       "      <th>44</th>\n",
       "      <th>45</th>\n",
       "      <th>46</th>\n",
       "      <th>47</th>\n",
       "      <th>48</th>\n",
       "      <th>49</th>\n",
       "    </tr>\n",
       "  </thead>\n",
       "  <tbody>\n",
       "    <tr>\n",
       "      <th>0</th>\n",
       "      <td>36.0</td>\n",
       "      <td>117.989935</td>\n",
       "      <td>658.487571</td>\n",
       "      <td>330.402267</td>\n",
       "      <td>447.344406</td>\n",
       "      <td>71.579701</td>\n",
       "      <td>-321.068125</td>\n",
       "      <td>-722.193289</td>\n",
       "      <td>216.586104</td>\n",
       "      <td>-296.320421</td>\n",
       "      <td>...</td>\n",
       "      <td>102.477667</td>\n",
       "      <td>79.787928</td>\n",
       "      <td>229.692127</td>\n",
       "      <td>213.362256</td>\n",
       "      <td>-153.993241</td>\n",
       "      <td>166.156587</td>\n",
       "      <td>127.762666</td>\n",
       "      <td>-89.816663</td>\n",
       "      <td>-175.166099</td>\n",
       "      <td>49.813899</td>\n",
       "    </tr>\n",
       "    <tr>\n",
       "      <th>1</th>\n",
       "      <td>0.0</td>\n",
       "      <td>1054.668582</td>\n",
       "      <td>-185.312286</td>\n",
       "      <td>-896.186133</td>\n",
       "      <td>-424.796355</td>\n",
       "      <td>-892.301689</td>\n",
       "      <td>153.224872</td>\n",
       "      <td>-24.147293</td>\n",
       "      <td>164.114933</td>\n",
       "      <td>-341.850783</td>\n",
       "      <td>...</td>\n",
       "      <td>20.951861</td>\n",
       "      <td>-229.714627</td>\n",
       "      <td>-116.688314</td>\n",
       "      <td>-36.820065</td>\n",
       "      <td>-26.848551</td>\n",
       "      <td>-86.944919</td>\n",
       "      <td>140.027855</td>\n",
       "      <td>138.466243</td>\n",
       "      <td>-12.851232</td>\n",
       "      <td>54.393574</td>\n",
       "    </tr>\n",
       "    <tr>\n",
       "      <th>2</th>\n",
       "      <td>3.0</td>\n",
       "      <td>-117.762147</td>\n",
       "      <td>781.021125</td>\n",
       "      <td>143.518022</td>\n",
       "      <td>-152.470980</td>\n",
       "      <td>562.498207</td>\n",
       "      <td>-62.177398</td>\n",
       "      <td>241.489107</td>\n",
       "      <td>475.198097</td>\n",
       "      <td>-867.948127</td>\n",
       "      <td>...</td>\n",
       "      <td>-65.988978</td>\n",
       "      <td>-180.374379</td>\n",
       "      <td>220.651482</td>\n",
       "      <td>-41.768814</td>\n",
       "      <td>-139.201120</td>\n",
       "      <td>302.111079</td>\n",
       "      <td>-50.122665</td>\n",
       "      <td>115.465053</td>\n",
       "      <td>-101.499678</td>\n",
       "      <td>116.537031</td>\n",
       "    </tr>\n",
       "    <tr>\n",
       "      <th>3</th>\n",
       "      <td>33.0</td>\n",
       "      <td>-553.267526</td>\n",
       "      <td>-283.911249</td>\n",
       "      <td>8.845921</td>\n",
       "      <td>92.506575</td>\n",
       "      <td>-245.986626</td>\n",
       "      <td>-137.806753</td>\n",
       "      <td>202.621867</td>\n",
       "      <td>221.518277</td>\n",
       "      <td>50.877987</td>\n",
       "      <td>...</td>\n",
       "      <td>-64.017097</td>\n",
       "      <td>-6.827408</td>\n",
       "      <td>-312.128894</td>\n",
       "      <td>82.664625</td>\n",
       "      <td>-249.716617</td>\n",
       "      <td>302.844756</td>\n",
       "      <td>-116.076716</td>\n",
       "      <td>-362.312861</td>\n",
       "      <td>6.377074</td>\n",
       "      <td>106.466476</td>\n",
       "    </tr>\n",
       "    <tr>\n",
       "      <th>4</th>\n",
       "      <td>30.0</td>\n",
       "      <td>804.201239</td>\n",
       "      <td>21.239381</td>\n",
       "      <td>834.426463</td>\n",
       "      <td>-537.244042</td>\n",
       "      <td>-393.108762</td>\n",
       "      <td>461.381428</td>\n",
       "      <td>-30.000237</td>\n",
       "      <td>-68.474969</td>\n",
       "      <td>338.573024</td>\n",
       "      <td>...</td>\n",
       "      <td>-212.737601</td>\n",
       "      <td>-198.733705</td>\n",
       "      <td>13.946497</td>\n",
       "      <td>43.304405</td>\n",
       "      <td>-208.758342</td>\n",
       "      <td>52.693623</td>\n",
       "      <td>88.726353</td>\n",
       "      <td>180.408897</td>\n",
       "      <td>87.096814</td>\n",
       "      <td>107.168310</td>\n",
       "    </tr>\n",
       "  </tbody>\n",
       "</table>\n",
       "<p>5 rows × 51 columns</p>\n",
       "</div>"
      ],
      "text/plain": [
       "      e            0           1           2           3           4  \\\n",
       "0  36.0   117.989935  658.487571  330.402267  447.344406   71.579701   \n",
       "1   0.0  1054.668582 -185.312286 -896.186133 -424.796355 -892.301689   \n",
       "2   3.0  -117.762147  781.021125  143.518022 -152.470980  562.498207   \n",
       "3  33.0  -553.267526 -283.911249    8.845921   92.506575 -245.986626   \n",
       "4  30.0   804.201239   21.239381  834.426463 -537.244042 -393.108762   \n",
       "\n",
       "            5           6           7           8  ...          40  \\\n",
       "0 -321.068125 -722.193289  216.586104 -296.320421  ...  102.477667   \n",
       "1  153.224872  -24.147293  164.114933 -341.850783  ...   20.951861   \n",
       "2  -62.177398  241.489107  475.198097 -867.948127  ...  -65.988978   \n",
       "3 -137.806753  202.621867  221.518277   50.877987  ...  -64.017097   \n",
       "4  461.381428  -30.000237  -68.474969  338.573024  ... -212.737601   \n",
       "\n",
       "           41          42          43          44          45          46  \\\n",
       "0   79.787928  229.692127  213.362256 -153.993241  166.156587  127.762666   \n",
       "1 -229.714627 -116.688314  -36.820065  -26.848551  -86.944919  140.027855   \n",
       "2 -180.374379  220.651482  -41.768814 -139.201120  302.111079  -50.122665   \n",
       "3   -6.827408 -312.128894   82.664625 -249.716617  302.844756 -116.076716   \n",
       "4 -198.733705   13.946497   43.304405 -208.758342   52.693623   88.726353   \n",
       "\n",
       "           47          48          49  \n",
       "0  -89.816663 -175.166099   49.813899  \n",
       "1  138.466243  -12.851232   54.393574  \n",
       "2  115.465053 -101.499678  116.537031  \n",
       "3 -362.312861    6.377074  106.466476  \n",
       "4  180.408897   87.096814  107.168310  \n",
       "\n",
       "[5 rows x 51 columns]"
      ]
     },
     "execution_count": 13,
     "metadata": {},
     "output_type": "execute_result"
    }
   ],
   "source": [
    "data_pca_e.head()"
   ]
  },
  {
   "cell_type": "code",
   "execution_count": 14,
   "metadata": {},
   "outputs": [],
   "source": [
    "def replace_e(number):\n",
    "    if number < 10:\n",
    "        return 0\n",
    "    elif number >= 10 and number < 36:\n",
    "        return 1\n",
    "    elif number >= 36:\n",
    "        return 0"
   ]
  },
  {
   "cell_type": "code",
   "execution_count": 15,
   "metadata": {},
   "outputs": [],
   "source": [
    "data_upper = data_pca_e.copy()"
   ]
  },
  {
   "cell_type": "code",
   "execution_count": 16,
   "metadata": {},
   "outputs": [],
   "source": [
    "data_upper['e'] = data_upper['e'].apply(replace_e)"
   ]
  },
  {
   "cell_type": "code",
   "execution_count": 17,
   "metadata": {},
   "outputs": [
    {
     "data": {
      "text/html": [
       "<div>\n",
       "<style scoped>\n",
       "    .dataframe tbody tr th:only-of-type {\n",
       "        vertical-align: middle;\n",
       "    }\n",
       "\n",
       "    .dataframe tbody tr th {\n",
       "        vertical-align: top;\n",
       "    }\n",
       "\n",
       "    .dataframe thead th {\n",
       "        text-align: right;\n",
       "    }\n",
       "</style>\n",
       "<table border=\"1\" class=\"dataframe\">\n",
       "  <thead>\n",
       "    <tr style=\"text-align: right;\">\n",
       "      <th></th>\n",
       "      <th>e</th>\n",
       "      <th>0</th>\n",
       "      <th>1</th>\n",
       "      <th>2</th>\n",
       "      <th>3</th>\n",
       "      <th>4</th>\n",
       "      <th>5</th>\n",
       "      <th>6</th>\n",
       "      <th>7</th>\n",
       "      <th>8</th>\n",
       "      <th>...</th>\n",
       "      <th>40</th>\n",
       "      <th>41</th>\n",
       "      <th>42</th>\n",
       "      <th>43</th>\n",
       "      <th>44</th>\n",
       "      <th>45</th>\n",
       "      <th>46</th>\n",
       "      <th>47</th>\n",
       "      <th>48</th>\n",
       "      <th>49</th>\n",
       "    </tr>\n",
       "  </thead>\n",
       "  <tbody>\n",
       "    <tr>\n",
       "      <th>0</th>\n",
       "      <td>0</td>\n",
       "      <td>117.989935</td>\n",
       "      <td>658.487571</td>\n",
       "      <td>330.402267</td>\n",
       "      <td>447.344406</td>\n",
       "      <td>71.579701</td>\n",
       "      <td>-321.068125</td>\n",
       "      <td>-722.193289</td>\n",
       "      <td>216.586104</td>\n",
       "      <td>-296.320421</td>\n",
       "      <td>...</td>\n",
       "      <td>102.477667</td>\n",
       "      <td>79.787928</td>\n",
       "      <td>229.692127</td>\n",
       "      <td>213.362256</td>\n",
       "      <td>-153.993241</td>\n",
       "      <td>166.156587</td>\n",
       "      <td>127.762666</td>\n",
       "      <td>-89.816663</td>\n",
       "      <td>-175.166099</td>\n",
       "      <td>49.813899</td>\n",
       "    </tr>\n",
       "    <tr>\n",
       "      <th>1</th>\n",
       "      <td>0</td>\n",
       "      <td>1054.668582</td>\n",
       "      <td>-185.312286</td>\n",
       "      <td>-896.186133</td>\n",
       "      <td>-424.796355</td>\n",
       "      <td>-892.301689</td>\n",
       "      <td>153.224872</td>\n",
       "      <td>-24.147293</td>\n",
       "      <td>164.114933</td>\n",
       "      <td>-341.850783</td>\n",
       "      <td>...</td>\n",
       "      <td>20.951861</td>\n",
       "      <td>-229.714627</td>\n",
       "      <td>-116.688314</td>\n",
       "      <td>-36.820065</td>\n",
       "      <td>-26.848551</td>\n",
       "      <td>-86.944919</td>\n",
       "      <td>140.027855</td>\n",
       "      <td>138.466243</td>\n",
       "      <td>-12.851232</td>\n",
       "      <td>54.393574</td>\n",
       "    </tr>\n",
       "    <tr>\n",
       "      <th>2</th>\n",
       "      <td>0</td>\n",
       "      <td>-117.762147</td>\n",
       "      <td>781.021125</td>\n",
       "      <td>143.518022</td>\n",
       "      <td>-152.470980</td>\n",
       "      <td>562.498207</td>\n",
       "      <td>-62.177398</td>\n",
       "      <td>241.489107</td>\n",
       "      <td>475.198097</td>\n",
       "      <td>-867.948127</td>\n",
       "      <td>...</td>\n",
       "      <td>-65.988978</td>\n",
       "      <td>-180.374379</td>\n",
       "      <td>220.651482</td>\n",
       "      <td>-41.768814</td>\n",
       "      <td>-139.201120</td>\n",
       "      <td>302.111079</td>\n",
       "      <td>-50.122665</td>\n",
       "      <td>115.465053</td>\n",
       "      <td>-101.499678</td>\n",
       "      <td>116.537031</td>\n",
       "    </tr>\n",
       "    <tr>\n",
       "      <th>3</th>\n",
       "      <td>1</td>\n",
       "      <td>-553.267526</td>\n",
       "      <td>-283.911249</td>\n",
       "      <td>8.845921</td>\n",
       "      <td>92.506575</td>\n",
       "      <td>-245.986626</td>\n",
       "      <td>-137.806753</td>\n",
       "      <td>202.621867</td>\n",
       "      <td>221.518277</td>\n",
       "      <td>50.877987</td>\n",
       "      <td>...</td>\n",
       "      <td>-64.017097</td>\n",
       "      <td>-6.827408</td>\n",
       "      <td>-312.128894</td>\n",
       "      <td>82.664625</td>\n",
       "      <td>-249.716617</td>\n",
       "      <td>302.844756</td>\n",
       "      <td>-116.076716</td>\n",
       "      <td>-362.312861</td>\n",
       "      <td>6.377074</td>\n",
       "      <td>106.466476</td>\n",
       "    </tr>\n",
       "    <tr>\n",
       "      <th>4</th>\n",
       "      <td>1</td>\n",
       "      <td>804.201239</td>\n",
       "      <td>21.239381</td>\n",
       "      <td>834.426463</td>\n",
       "      <td>-537.244042</td>\n",
       "      <td>-393.108762</td>\n",
       "      <td>461.381428</td>\n",
       "      <td>-30.000237</td>\n",
       "      <td>-68.474969</td>\n",
       "      <td>338.573024</td>\n",
       "      <td>...</td>\n",
       "      <td>-212.737601</td>\n",
       "      <td>-198.733705</td>\n",
       "      <td>13.946497</td>\n",
       "      <td>43.304405</td>\n",
       "      <td>-208.758342</td>\n",
       "      <td>52.693623</td>\n",
       "      <td>88.726353</td>\n",
       "      <td>180.408897</td>\n",
       "      <td>87.096814</td>\n",
       "      <td>107.168310</td>\n",
       "    </tr>\n",
       "  </tbody>\n",
       "</table>\n",
       "<p>5 rows × 51 columns</p>\n",
       "</div>"
      ],
      "text/plain": [
       "   e            0           1           2           3           4           5  \\\n",
       "0  0   117.989935  658.487571  330.402267  447.344406   71.579701 -321.068125   \n",
       "1  0  1054.668582 -185.312286 -896.186133 -424.796355 -892.301689  153.224872   \n",
       "2  0  -117.762147  781.021125  143.518022 -152.470980  562.498207  -62.177398   \n",
       "3  1  -553.267526 -283.911249    8.845921   92.506575 -245.986626 -137.806753   \n",
       "4  1   804.201239   21.239381  834.426463 -537.244042 -393.108762  461.381428   \n",
       "\n",
       "            6           7           8  ...          40          41  \\\n",
       "0 -722.193289  216.586104 -296.320421  ...  102.477667   79.787928   \n",
       "1  -24.147293  164.114933 -341.850783  ...   20.951861 -229.714627   \n",
       "2  241.489107  475.198097 -867.948127  ...  -65.988978 -180.374379   \n",
       "3  202.621867  221.518277   50.877987  ...  -64.017097   -6.827408   \n",
       "4  -30.000237  -68.474969  338.573024  ... -212.737601 -198.733705   \n",
       "\n",
       "           42          43          44          45          46          47  \\\n",
       "0  229.692127  213.362256 -153.993241  166.156587  127.762666  -89.816663   \n",
       "1 -116.688314  -36.820065  -26.848551  -86.944919  140.027855  138.466243   \n",
       "2  220.651482  -41.768814 -139.201120  302.111079  -50.122665  115.465053   \n",
       "3 -312.128894   82.664625 -249.716617  302.844756 -116.076716 -362.312861   \n",
       "4   13.946497   43.304405 -208.758342   52.693623   88.726353  180.408897   \n",
       "\n",
       "           48          49  \n",
       "0 -175.166099   49.813899  \n",
       "1  -12.851232   54.393574  \n",
       "2 -101.499678  116.537031  \n",
       "3    6.377074  106.466476  \n",
       "4   87.096814  107.168310  \n",
       "\n",
       "[5 rows x 51 columns]"
      ]
     },
     "execution_count": 17,
     "metadata": {},
     "output_type": "execute_result"
    }
   ],
   "source": [
    "data_upper.head()"
   ]
  },
  {
   "cell_type": "code",
   "execution_count": 18,
   "metadata": {},
   "outputs": [],
   "source": [
    "X = data_upper.drop('e', axis=1)\n",
    "y = data_upper['e']"
   ]
  },
  {
   "cell_type": "code",
   "execution_count": 21,
   "metadata": {},
   "outputs": [],
   "source": [
    "def desicion_tree(X, y):\n",
    "    X_train, X_test, y_train, y_test = train_test_split(X, y, test_size=0.2, random_state = 42)\n",
    "    params = {'random_state': 0, 'max_depth': 4}\n",
    "    tree_characters= DecisionTreeClassifier(**params)\n",
    "    tree_characters.fit(X_train, y_train)\n",
    "    y_predict = tree_characters.predict(X_test)\n",
    "    print(tree_characters.score(X_train, y_train), tree_characters.score(X_test, y_test))\n",
    "    return tree_characters, y_predict"
   ]
  },
  {
   "cell_type": "code",
   "execution_count": 22,
   "metadata": {},
   "outputs": [
    {
     "name": "stdout",
     "output_type": "stream",
     "text": [
      "0.7404923863868381 0.7403395658714808\n"
     ]
    }
   ],
   "source": [
    "tree_upper, y_predict = desicion_tree(X, y)"
   ]
  },
  {
   "cell_type": "code",
   "execution_count": 28,
   "metadata": {},
   "outputs": [],
   "source": [
    "def random_forest(X, y):\n",
    "    X_train, X_test, y_train, y_test = train_test_split(X, y, test_size=0.2, random_state = 42)\n",
    "    tree_characters= RandomForestClassifier(n_estimators=100, max_depth=4, random_state=0)\n",
    "    tree_characters.fit(X_train, y_train)\n",
    "    y_predict = tree_characters.predict(X_test)\n",
    "    print(tree_characters.score(X_train, y_train), tree_upper.score(X_test, y_test))\n",
    "    return tree_characters, y_predict"
   ]
  },
  {
   "cell_type": "code",
   "execution_count": 29,
   "metadata": {
    "scrolled": false
   },
   "outputs": [
    {
     "name": "stdout",
     "output_type": "stream",
     "text": [
      "0.7304985116648935 0.7403395658714808\n"
     ]
    }
   ],
   "source": [
    "tree_upper, y_predict = random_forest(X, y)"
   ]
  },
  {
   "cell_type": "code",
   "execution_count": 30,
   "metadata": {},
   "outputs": [],
   "source": [
    "def logi_regression(X, y):\n",
    "    X_train, X_test, y_train, y_test = train_test_split(X, y, test_size=0.2, random_state = 42)\n",
    "    lr = LogisticRegression(solver='liblinear')\n",
    "    lr.fit(X_train, y_train)\n",
    "    y_pred = lr.predict(X_test)\n",
    "    print(lr.score(X_train, y_train), tree_upper.score(X_test, y_test))\n",
    "    return lr, y_predict"
   ]
  },
  {
   "cell_type": "code",
   "execution_count": 31,
   "metadata": {},
   "outputs": [
    {
     "name": "stdout",
     "output_type": "stream",
     "text": [
      "0.7381819744887542 0.7308403180743607\n"
     ]
    }
   ],
   "source": [
    "lr, y_predict = logi_regression(X, y)"
   ]
  },
  {
   "cell_type": "markdown",
   "metadata": {},
   "source": [
    "* Try to do the same thing with lowercases."
   ]
  },
  {
   "cell_type": "code",
   "execution_count": 32,
   "metadata": {},
   "outputs": [],
   "source": [
    "# Your code here\n",
    "def replace_e_lower(number):\n",
    "    if number >= 36 and number <= 50:\n",
    "        return 1\n",
    "    else:\n",
    "        return 0"
   ]
  },
  {
   "cell_type": "code",
   "execution_count": 33,
   "metadata": {},
   "outputs": [],
   "source": [
    "data_lower = data_pca_e.copy()\n",
    "data_lower['e'] = data_lower['e'].apply(replace_e_lower)"
   ]
  },
  {
   "cell_type": "code",
   "execution_count": 34,
   "metadata": {},
   "outputs": [],
   "source": [
    "X = data_lower.drop('e', axis=1)\n",
    "y = data_lower['e']"
   ]
  },
  {
   "cell_type": "code",
   "execution_count": 35,
   "metadata": {
    "scrolled": true
   },
   "outputs": [
    {
     "name": "stdout",
     "output_type": "stream",
     "text": [
      "0.8554864223003106 0.8562217923920051\n"
     ]
    }
   ],
   "source": [
    "tree_lower, y_predict = desicion_tree(X, y)"
   ]
  },
  {
   "cell_type": "code",
   "execution_count": 36,
   "metadata": {},
   "outputs": [
    {
     "name": "stdout",
     "output_type": "stream",
     "text": [
      "0.8477814672727468 0.8562217923920051\n"
     ]
    }
   ],
   "source": [
    "tree_lower, y_predict = random_forest(X, y)"
   ]
  },
  {
   "cell_type": "code",
   "execution_count": 37,
   "metadata": {},
   "outputs": [
    {
     "name": "stdout",
     "output_type": "stream",
     "text": [
      "0.8600750077909238 0.8483129163980228\n"
     ]
    }
   ],
   "source": [
    "lr, y_predict = logi_regression(X, y)"
   ]
  },
  {
   "cell_type": "markdown",
   "metadata": {},
   "source": [
    "* Try to do the same thing with numbers."
   ]
  },
  {
   "cell_type": "code",
   "execution_count": 38,
   "metadata": {},
   "outputs": [],
   "source": [
    "# Your code here\n",
    "def replace_e_number(number):\n",
    "    if number >= 0 and number <= 9:\n",
    "        return 1\n",
    "    else:\n",
    "        return 0"
   ]
  },
  {
   "cell_type": "code",
   "execution_count": 39,
   "metadata": {},
   "outputs": [],
   "source": [
    "data_number = data_pca_e.copy()\n",
    "data_number['e'] = data_number['e'].apply(replace_e_number)"
   ]
  },
  {
   "cell_type": "code",
   "execution_count": 40,
   "metadata": {},
   "outputs": [],
   "source": [
    "X = data_number.drop('e', axis=1)\n",
    "y = data_number['e']"
   ]
  },
  {
   "cell_type": "code",
   "execution_count": 41,
   "metadata": {},
   "outputs": [
    {
     "name": "stdout",
     "output_type": "stream",
     "text": [
      "0.6859666655920564 0.6845046206748334\n"
     ]
    }
   ],
   "source": [
    "tree_number, y_predict = desicion_tree(X, y)"
   ]
  },
  {
   "cell_type": "code",
   "execution_count": 42,
   "metadata": {},
   "outputs": [
    {
     "name": "stdout",
     "output_type": "stream",
     "text": [
      "0.7230622091836186 0.5022995916612938\n"
     ]
    }
   ],
   "source": [
    "tree_number, y_predict = random_forest(X, y)"
   ]
  },
  {
   "cell_type": "code",
   "execution_count": 43,
   "metadata": {},
   "outputs": [
    {
     "name": "stdout",
     "output_type": "stream",
     "text": [
      "0.7249857614150467 0.5022995916612938\n"
     ]
    }
   ],
   "source": [
    "lr, y_predict = logi_regression(X, y)"
   ]
  }
 ],
 "metadata": {
  "kernelspec": {
   "display_name": "Python 3",
   "language": "python",
   "name": "python3"
  },
  "language_info": {
   "codemirror_mode": {
    "name": "ipython",
    "version": 3
   },
   "file_extension": ".py",
   "mimetype": "text/x-python",
   "name": "python",
   "nbconvert_exporter": "python",
   "pygments_lexer": "ipython3",
   "version": "3.9.5"
  }
 },
 "nbformat": 4,
 "nbformat_minor": 2
}
